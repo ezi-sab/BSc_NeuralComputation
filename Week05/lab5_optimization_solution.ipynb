{
 "cells": [
  {
   "cell_type": "markdown",
   "metadata": {},
   "source": [
    "## Neural Computation Exercise 5: Advanced Optimization Algorithms\n",
    "\n",
    "In this exercise, we'll develop implementations of advanced optimization algorithms. As in Exercise 2, we will use the Boston Housing dataset and run some advanced optimization algorithms to solve the linear regression problems.\n",
    "\n",
    "In this exercise, you will learn the following\n",
    "* implement the `momentum` method\n",
    "* implement the `Nesterov momentum` method\n",
    "* implement the `minibatch gradient descent` method\n",
    "* implement the `adaptive (stochastic) gradient descent` method"
   ]
  },
  {
   "cell_type": "code",
   "execution_count": 26,
   "metadata": {},
   "outputs": [],
   "source": [
    "import matplotlib\n",
    "import numpy as np\n",
    "import random\n",
    "import warnings\n",
    "import matplotlib.pyplot as plt \n",
    "from sklearn import preprocessing   # for normalization"
   ]
  },
  {
   "cell_type": "markdown",
   "metadata": {},
   "source": [
    "## Boston Housing Data\n",
    "\n",
    "The Boston Housing data is one of the datasets available in sklearn.\n",
    "We can import the dataset and preprocess it as follows. Note we add a feature of $1$ to `x_input` to get a n x (d+1) matrix `x_in`"
   ]
  },
  {
   "cell_type": "code",
   "execution_count": 27,
   "metadata": {},
   "outputs": [],
   "source": [
    "from sklearn.datasets import load_boston\n",
    "with warnings.catch_warnings():\n",
    "    warnings.filterwarnings(\"ignore\")\n",
    "    boston_data = load_boston()\n",
    "data = boston_data['data']\n",
    "x_input = data  # a data matrix\n",
    "y_target = boston_data['target'] # a vector for all outputs\n",
    "# add a feature 1 to the dataset, then we do not need to consider the bias and weight separately\n",
    "x_in = np.concatenate([np.ones([np.shape(x_input)[0], 1]), x_input], axis=1)\n",
    "# we normalize the data so that each has regularity\n",
    "x_in = preprocessing.normalize(x_in)\n"
   ]
  },
  {
   "cell_type": "markdown",
   "metadata": {},
   "source": [
    "## Linear Model\n",
    "\n",
    "A linear regression model in one variable has the following form \n",
    "$$\n",
    "f(x)=\\mathbf{w}^\\top \\mathbf{x}.\n",
    "$$\n",
    "The following function computes the output of the linear model on a data matrix of size n x (d+1)."
   ]
  },
  {
   "cell_type": "code",
   "execution_count": 28,
   "metadata": {},
   "outputs": [],
   "source": [
    "def linearmat_2(w, X):\n",
    "    '''\n",
    "    a vectorization of linearmat_1 in lab 2.\n",
    "    Input: w is a weight parameter (including the bias), and X is a data matrix (n x (d+1)) (including the feature)\n",
    "    Output: a vector containing the predictions of linear models\n",
    "    '''\n",
    "    return np.dot(X, w)"
   ]
  },
  {
   "cell_type": "markdown",
   "metadata": {},
   "source": [
    "## Cost Function\n",
    "\n",
    "We defined the following `mean square error` function for a linear regression problem using the square loss:\n",
    "$$\n",
    "C(\\mathbf{y}, \\mathbf{t}) = \\frac{1}{2n}(\\mathbf{y}-\\mathbf{t})^\\top (\\mathbf{y}-\\mathbf{t}).\n",
    "$$\n",
    "The python implementation is as follows"
   ]
  },
  {
   "cell_type": "code",
   "execution_count": 29,
   "metadata": {},
   "outputs": [],
   "source": [
    "def cost(w, X, y):\n",
    "    '''\n",
    "    Evaluate the cost function in a vectorized manner for \n",
    "    inputs `X` and outputs `y`, at weights `w`.\n",
    "    '''\n",
    "    residual = y - linearmat_2(w, X)  # get the residual\n",
    "    err = np.dot(residual, residual) / (2 * len(y)) # compute the error\n",
    "    \n",
    "    return err"
   ]
  },
  {
   "cell_type": "markdown",
   "metadata": {},
   "source": [
    "## Gradient Computation\n",
    "\n",
    "Our methods require to use the gradient of the `cost` function. As discussed in the previous lecture, the gradient can be computed by\n",
    "$$\\nabla C(\\mathbf{w}) =\\frac{1}{n}X^\\top\\big(X\\mathbf{w}-\\mathbf{y}\\big)$$\n",
    "In the following, we present the python implementation on the gradient computation"
   ]
  },
  {
   "cell_type": "code",
   "execution_count": 30,
   "metadata": {},
   "outputs": [],
   "source": [
    "# Vectorized gradient function\n",
    "def gradfn(weights, X, y):\n",
    "    '''\n",
    "    Given `weights` - a current \"Guess\" of what our weights should be\n",
    "          `X` - matrix of shape (N,d+1) of input features including the feature $1$\n",
    "          `y` - target y values\n",
    "    Return gradient of each weight evaluated at the current value\n",
    "    '''\n",
    "\n",
    "    y_pred = np.dot(X, weights)\n",
    "    error = y_pred - y\n",
    "    return np.dot(X.T, error) / len(y)"
   ]
  },
  {
   "cell_type": "markdown",
   "metadata": {},
   "source": [
    "## Gradient Descent\n",
    "\n",
    "Gradient Descent iteratively updates the model by moving along the negative direction\n",
    "$$\\mathbf{w}^{(t+1)} \\leftarrow \\mathbf{w}^{(t)} - \\eta\\nabla C(\\mathbf{w}^{(t)}),$$ \n",
    "where $\\eta$ is a learning rate and $\\nabla C(w^{(t)})$ is the gradient evaluated at current parameter value $\\mathbf{w}^{(t)}$. In the following, we give the python implementation of the gradient descent on the linear regression problem. Here, we use `idx_res` to store the indices of iterations where we have computed the cost, and use `err_res` to store the cost of models at these iterations. These will be used to plot how the `cost` will behave `versus iteration` number."
   ]
  },
  {
   "cell_type": "code",
   "execution_count": 31,
   "metadata": {},
   "outputs": [],
   "source": [
    "def solve_via_gradient_descent(X, y, print_every=100,\n",
    "                               niter=2000, eta=1):\n",
    "    '''\n",
    "    Solves for linear regression weights with gradient descent.\n",
    "    Given `X` - matrix of shape (N,D) of input features\n",
    "          `y` - target y values\n",
    "          `print_every` - we report performance every 'print_every' iterations\n",
    "          `niter` - the number of iterates allowed\n",
    "          `eta` - learning rate\n",
    "    \n",
    "    Return \n",
    "        `w` - weights after `niter` iterations\n",
    "        `idx_res` - the indices of iterations where we compute the cost\n",
    "        `err_res` - the cost at iterations indicated by idx_res\n",
    "    '''\n",
    "    N, D = np.shape(X)\n",
    "    # initialize all the weights to zeros\n",
    "    w = np.zeros([D])\n",
    "    idx_res = []\n",
    "    err_res = []\n",
    "    for k in range(niter):\n",
    "        # compute the gradient\n",
    "        dw = gradfn(w, X, y)\n",
    "        # gradient descent\n",
    "        w = w - eta * dw\n",
    "        # we report the progress every print_every iterations\n",
    "        # note the operator % calculates the remainder of dividing two values\n",
    "        if k % print_every == print_every - 1:\n",
    "            t_cost = cost(w, X, y)\n",
    "            print('error after %d iteration: %s' % (k, t_cost))\n",
    "            idx_res.append(k)\n",
    "            err_res.append(t_cost)\n",
    "    return w, idx_res, err_res"
   ]
  },
  {
   "cell_type": "markdown",
   "metadata": {},
   "source": [
    "Now we apply **gradient descent** to solve the **Boston House Price** prediction problem , and get the weight w_gd, the indices idx_gd and the errors 'err_gd' on these indices"
   ]
  },
  {
   "cell_type": "code",
   "execution_count": 47,
   "metadata": {},
   "outputs": [
    {
     "name": "stdout",
     "output_type": "stream",
     "text": [
      "error after 99 iteration: 31.79169332623314\n",
      "error after 199 iteration: 31.023607992661905\n",
      "error after 299 iteration: 30.490383155279734\n",
      "error after 399 iteration: 30.08955829529193\n",
      "error after 499 iteration: 29.765768454560703\n",
      "error after 599 iteration: 29.4886933766529\n",
      "error after 699 iteration: 29.241419443720762\n",
      "error after 799 iteration: 29.014275853482033\n",
      "error after 899 iteration: 28.80155574427343\n",
      "error after 999 iteration: 28.599760789662742\n",
      "error after 1099 iteration: 28.406652720498357\n",
      "error after 1199 iteration: 28.220734140804872\n",
      "error after 1299 iteration: 28.04095920855527\n",
      "error after 1399 iteration: 27.86656854307502\n",
      "error after 1499 iteration: 27.69699215232022\n",
      "error after 1599 iteration: 27.531790279455215\n",
      "error after 1699 iteration: 27.370615897731934\n",
      "error after 1799 iteration: 27.213189941761836\n",
      "error after 1899 iteration: 27.05928430493339\n",
      "error after 1999 iteration: 26.90870976389502\n"
     ]
    }
   ],
   "source": [
    "w_gd, idx_gd, err_gd = solve_via_gradient_descent( X=x_in, y=y_target)"
   ]
  },
  {
   "cell_type": "markdown",
   "metadata": {},
   "source": [
    "## Momentum\n",
    "\n",
    "Momentum introduces a variable `velocity` to store the historical information of the gradients. At each iteration, it updates `velocity` as a factor of the current `velocity` minus the `learning rate` times the `current gradient`\n",
    "$$\\mathbf{v}^{(t+1)} = \\alpha\\mathbf{v}^{(t)}-\\eta\\nabla C(\\mathbf{w}^{(t)}),$$ \n",
    "where $\\eta$ is a learning rate, $\\alpha\\in(0,1)$ is a parameter and $\\nabla C(w^{(t)}$ is the gradient evaluated at current parameter value $\\mathbf{w}^{(t)}$.\n",
    "Then, we update the next iterate as \n",
    "$$\\mathbf{w}^{(t+1)}=\\mathbf{w}^{(t)}+\\mathbf{v}^{(t+1)}.$$\n",
    "In the following, we request you to finish the following implementation of the `momentum` on the linear regression problem."
   ]
  },
  {
   "cell_type": "code",
   "execution_count": 49,
   "metadata": {},
   "outputs": [],
   "source": [
    "def solve_via_momentum(X, y, print_every=100,\n",
    "                               niter=2000, eta=1, alpha=0.8):\n",
    "    '''\n",
    "    Solves for linear regression weights with momentum.\n",
    "    Given `X` - matrix of shape (N,D) of input features\n",
    "          `y` - target y values\n",
    "          `print_every` - we report performance every 'print_every' iterations\n",
    "          `niter` - the number of iterates allowed\n",
    "          `eta` - learning rate\n",
    "          `alpha` - determines the influence of past gradients on the current update\n",
    "\n",
    "    Return \n",
    "        `w` - weights after `niter` iterations\n",
    "        `idx_res` - the indices of iterations where we compute the cost\n",
    "        `err_res` - the cost at iterations\n",
    "    '''\n",
    "    N, D = np.shape(X)\n",
    "    # initialize all the weights to zeros\n",
    "    w = np.zeros([D])\n",
    "    v = np.zeros([D])\n",
    "    idx_res = []\n",
    "    err_res = []\n",
    "    for k in range(niter):\n",
    "        # TODO: Insert your code to update w by momentum\n",
    "        dw = gradfn(w, X, y)\n",
    "        v = alpha * v - eta * dw\n",
    "        w = w + v \n",
    "        if k % print_every == print_every - 1:\n",
    "            t_cost = cost(w, X, y)\n",
    "            print('error after %d iteration: %s' % (k, t_cost))\n",
    "            idx_res.append(k)\n",
    "            err_res.append(t_cost)\n",
    "    return w, idx_res, err_res"
   ]
  },
  {
   "cell_type": "markdown",
   "metadata": {},
   "source": [
    "Now we apply **momentum** to solve the **Boston House Price** prediction problem."
   ]
  },
  {
   "cell_type": "code",
   "execution_count": 50,
   "metadata": {},
   "outputs": [
    {
     "name": "stdout",
     "output_type": "stream",
     "text": [
      "error after 99 iteration: 29.80056562307084\n",
      "error after 199 iteration: 28.62999428839385\n",
      "error after 299 iteration: 27.723453738429058\n",
      "error after 399 iteration: 26.93170196909492\n",
      "error after 499 iteration: 26.22075154671397\n",
      "error after 599 iteration: 25.576591923202297\n",
      "error after 699 iteration: 24.991046371326643\n",
      "error after 799 iteration: 24.458021242865854\n",
      "error after 899 iteration: 23.97238648687385\n",
      "error after 999 iteration: 23.529615039194645\n",
      "error after 1099 iteration: 23.125646524151126\n",
      "error after 1199 iteration: 22.756819391684342\n",
      "error after 1299 iteration: 22.419825742699732\n",
      "error after 1399 iteration: 22.11167523451924\n",
      "error after 1499 iteration: 21.82966385782359\n",
      "error after 1599 iteration: 21.571346141332413\n",
      "error after 1699 iteration: 21.334510167960573\n",
      "error after 1799 iteration: 21.117155046557606\n",
      "error after 1899 iteration: 20.917470576437516\n",
      "error after 1999 iteration: 20.733818884547354\n"
     ]
    }
   ],
   "source": [
    "w_momentum, idx_momentum, err_momentum = solve_via_momentum( X=x_in, y=y_target)"
   ]
  },
  {
   "cell_type": "markdown",
   "metadata": {},
   "source": [
    "### Comparison between Gradient Descent and Gradient Descent with Momentum\n",
    "\n",
    "We can now compare the behavie of Gradient Descent and Gradient Descent with Momentum. In particular, we will show how the `cost` of models found by the algorithm at different iterations would behave with respect to the iteration number."
   ]
  },
  {
   "cell_type": "code",
   "execution_count": 35,
   "metadata": {},
   "outputs": [
    {
     "data": {
      "image/png": "[encoded data removed]",
      "text/plain": [
       "<Figure size 432x288 with 1 Axes>"
      ]
     },
     "metadata": {
      "needs_background": "light"
     },
     "output_type": "display_data"
    }
   ],
   "source": [
    "# we plot the cost w.r.t. the iteration number\n",
    "plt.plot(idx_gd, err_gd, color=\"red\", linewidth=2.5, linestyle=\"-\", label=\"gradient descent\")\n",
    "plt.plot(idx_momentum, err_momentum, color=\"blue\", linewidth=2.5, linestyle=\"-\", label=\"momentum\")\n",
    "plt.legend(loc='upper right', prop={'size': 12})\n",
    "plt.title('comparison between gradient descent and momentum')\n",
    "plt.xlabel(\"number of iterations\")\n",
    "plt.ylabel(\"cost\")\n",
    "plt.grid()\n",
    "plt.show()"
   ]
  },
  {
   "cell_type": "markdown",
   "metadata": {},
   "source": [
    "As we expected, **gradient descent with momentum** is much faster than the **gradient descent**. This shows the benefit of using velocity to store historical gradient information for accelerating the algorithm."
   ]
  },
  {
   "cell_type": "markdown",
   "metadata": {},
   "source": [
    "## Nesterov Momentum\n",
    "\n",
    "Anoter algorithm which can acclerate the training speed of gradient descent is the **Nesterov Momentum**. Analogous to **Momentum**, Nesterov Momentum also introduces a variable `velocity` to store the historical information of the gradients. The difference is that it first uses the current velocity to build a `looking ahead` point. Then the gradient computation is performed at the  `looking ahead` point. The `looking ahead` point may contain more information than the current point. Therefore, the gradient at `looking ahead` point may be more precise than the `current gradient`.\n",
    "The update equation is as follows\n",
    "$$\\mathbf{w}^{\\text{(ahead)}}=\\mathbf{w}^{(t)}+\\alpha\\mathbf{v}^{(t)}$$\n",
    "$$\\mathbf{v}^{(t+1)} = \\alpha\\mathbf{v}^{(t)}-\\eta\\nabla C(\\mathbf{w}^{(\\text{ahead})}),$$ \n",
    "where $\\eta$ is a learning rate and $\\alpha\\in(0,1)$ is a parameter.\n",
    "Then, we update the next iterate as \n",
    "$$\\mathbf{w}^{(t+1)}=\\mathbf{w}^{(t)}+\\mathbf{v}^{(t+1)}.$$\n",
    "In the following, we request you to finish the following implementation of the `Nesterov Momentum` on the linear regression problem."
   ]
  },
  {
   "cell_type": "code",
   "execution_count": 36,
   "metadata": {},
   "outputs": [],
   "source": [
    "def solve_via_nag(X, y, print_every=100,\n",
    "                               niter=2000, eta=0.5, alpha=0.8):\n",
    "    '''\n",
    "    Solves for linear regression weights with nesterov momentum.\n",
    "    Given `X` - matrix of shape (N,D) of input features\n",
    "          `y` - target y values\n",
    "          `print_every` - we report performance every 'print_every' iterations\n",
    "          `niter` - the number of iterates allowed\n",
    "          `eta` - learning rate\n",
    "          `alpha` - determines the influence of past gradients on the current update\n",
    "\n",
    "    Return \n",
    "        `w` - weights after `niter` iterations\n",
    "        `idx_res` - the indices of iterations where we compute the cost\n",
    "        `err_res` - the cost at iterations\n",
    "    '''\n",
    "    N, D = np.shape(X)\n",
    "    # initialize all the weights to zeros\n",
    "    w = np.zeros([D])\n",
    "    v = np.zeros([D])\n",
    "    idx_res = []\n",
    "    err_res = []\n",
    "    for k in range(niter):\n",
    "        # TODO: Insert your code to update w by nesterov momentum\n",
    "        w_ahead = w + alpha * v\n",
    "        dw = gradfn(w_ahead, X, y)\n",
    "        v = alpha * v - eta * dw\n",
    "        w = w + v \n",
    "        if k % print_every == print_every - 1:\n",
    "            t_cost = cost(w, X, y)\n",
    "            print('error after %d iteration: %s' % (k, t_cost))\n",
    "            idx_res.append(k)\n",
    "            err_res.append(t_cost)\n",
    "    return w, idx_res, err_res"
   ]
  },
  {
   "cell_type": "markdown",
   "metadata": {},
   "source": [
    "Now we apply nesterov momentum to solve the Boston House Price prediction problem."
   ]
  },
  {
   "cell_type": "code",
   "execution_count": 51,
   "metadata": {},
   "outputs": [
    {
     "name": "stdout",
     "output_type": "stream",
     "text": [
      "error after 99 iteration: 30.77108979528206\n",
      "error after 199 iteration: 29.785615718682827\n",
      "error after 299 iteration: 29.14305296031189\n",
      "error after 399 iteration: 28.615764624720775\n",
      "error after 499 iteration: 28.14503125524785\n",
      "error after 599 iteration: 27.71090401071221\n",
      "error after 699 iteration: 27.30445729074942\n",
      "error after 799 iteration: 26.92087123922468\n",
      "error after 899 iteration: 26.557219300063483\n",
      "error after 999 iteration: 26.211557121716073\n",
      "error after 1099 iteration: 25.882480958675558\n",
      "error after 1199 iteration: 25.56889656165967\n",
      "error after 1299 iteration: 25.269894270324073\n",
      "error after 1399 iteration: 24.984680444069564\n",
      "error after 1499 iteration: 24.71253935901087\n",
      "error after 1599 iteration: 24.452811706720944\n",
      "error after 1699 iteration: 24.20488217625198\n",
      "error after 1799 iteration: 23.968172024438882\n",
      "error after 1899 iteration: 23.74213440013609\n",
      "error after 1999 iteration: 23.526251201949723\n"
     ]
    }
   ],
   "source": [
    "w_nag, idx_nag, err_nag = solve_via_nag( X=x_in, y=y_target)"
   ]
  },
  {
   "cell_type": "markdown",
   "metadata": {},
   "source": [
    "### Comparison between Gradient Descent and Nesterov Momentum\n",
    "\n",
    "We can now compare the behavie of Gradient Descent and Nesterov Momentum. In particular, we will show how the `cost` of models found by the algorithm at different iterations would behave with respect to the iteration number."
   ]
  },
  {
   "cell_type": "code",
   "execution_count": 38,
   "metadata": {},
   "outputs": [
    {
     "data": {
      "image/png": "[encoded data removed]",
      "text/plain": [
       "<Figure size 432x288 with 1 Axes>"
      ]
     },
     "metadata": {
      "needs_background": "light"
     },
     "output_type": "display_data"
    }
   ],
   "source": [
    "plt.plot(idx_gd, err_gd, color=\"red\", linewidth=2.5, linestyle=\"-\", label=\"gradient descent\")\n",
    "plt.plot(idx_nag, err_nag, color=\"blue\", linewidth=2.5, linestyle=\"-\", label=\"nesterov momentum\")\n",
    "plt.legend(loc='upper right', prop={'size': 12})\n",
    "plt.title('comparison between gradient descent and momentum')\n",
    "plt.xlabel(\"number of iterations\")\n",
    "plt.ylabel(\"cost\")\n",
    "plt.grid()\n",
    "plt.show()"
   ]
  },
  {
   "cell_type": "markdown",
   "metadata": {},
   "source": [
    "As we expected, **nesterov momentum** is much faster than the **gradient descent**. This  again shows the benefit of using velocity to store historical gradient information for accelerating the algorithm."
   ]
  },
  {
   "cell_type": "markdown",
   "metadata": {},
   "source": [
    "## Minibatch Gradient Descent\n",
    "\n",
    "The optimization problem in ML often has a **sum** structure in the sense\n",
    "$$\n",
    "C(\\mathbf{w})=\\frac{1}{n}\\sum_{i=1}^nC_i(\\mathbf{w}),\n",
    "$$\n",
    "where $C_i(\\mathbf{w})$ is the loss of the model $\\mathbf{w}$ on the $i$-th example. In our Boston House Price prediction problem, $C_i$ takes the form $C_i(\\mathbf{w})=\\frac{1}{2}(\\mathbf{w}^\\top\\mathbf{x}^{(i)}-y^{(i)})^2$.\n",
    "\n",
    "Gradient descent requires to go through all training examples to compute a single gradient, which may be time consuming if the sample size is large. Minibatch gradient descent improves the efficiency by using a subset of training examples to build an **approximate** gradient. At each iteration, it first randomly draws a set $I\\subset\\{1,2,\\ldots,n\\}$ of size $s$, where we often call $s$ the minibatch size. Then it builds an approximate gradient by\n",
    "$$\n",
    "\\nabla_I(\\mathbf{w}^{(t)})=\\frac{1}{s}\\sum_{i\\in I}\\nabla C_i(\\mathbf{w}^{(t)})\n",
    "$$\n",
    "Now, it updates the model by\n",
    "$$\n",
    "\\mathbf{w}^{(t+1)}=\\mathbf{w}^{(t)}-\\eta_t\\nabla_I(\\mathbf{w}^{(t)}).\n",
    "$$ \n",
    "It is recommended to use $s\\in[20,100]$. Depending on different $s$, minibatch gradient descent recovers several algorithms\n",
    "\\begin{align*}\n",
    "  s<n \\;&\\Rightarrow\\;\\text{Minibatch gradient descent}\\\\\n",
    "  s=1 \\;&\\Rightarrow\\;\\text{Stochastic gradient descent} \\\\\n",
    "  s=n \\;&\\Rightarrow\\;\\text{Batch gradient descent}\n",
    "\\end{align*}\n",
    "In the following, we request you to finish the following implementation of the `minibatch gradient descent` on the linear regression problem. To search a subset of $\\{1,2,\\ldots,n\\}$, we recommend you to use the function `random.sample`. The synatx is `random.sample(sequence, k)`, which returns $k$ length new list of elements chosen from the `sequence`. More details can be found  [here](https://www.geeksforgeeks.org/python-random-sample-function/)"
   ]
  },
  {
   "cell_type": "code",
   "execution_count": 39,
   "metadata": {},
   "outputs": [],
   "source": [
    "def solve_via_minibatch(X, y, print_every=100,\n",
    "                               niter=5000, eta=0.2, batch_size=50):\n",
    "    '''\n",
    "    Solves for linear regression weights with nesterov momentum.\n",
    "    Given `X` - matrix of shape (N,D) of input features\n",
    "          `y` - target y values\n",
    "          `print_every` - we report performance every 'print_every' iterations\n",
    "          `niter` - the number of iterates allowed\n",
    "          `eta` - learning rate\n",
    "          `batch_size` - the size of minibatch\n",
    "    Return \n",
    "        `w` - weights after `niter` iterations\n",
    "        `idx_res` - the indices of iterations where we compute the cost\n",
    "        `err_res` - the cost at iterations\n",
    "    '''\n",
    "    N, D = np.shape(X)\n",
    "    # initialize all the weights to zeros\n",
    "    w = np.zeros([D])\n",
    "    idx_res = []\n",
    "    err_res = []\n",
    "    tset = list(range(N))\n",
    "    for k in range(niter):\n",
    "        # TODO: Insert your code to update w by minibatch gradient descent\n",
    "        idx = random.sample(tset, batch_size)\n",
    "        #sample batch of data\n",
    "        sample_X = X[idx, :]\n",
    "        sample_y = y[idx]\n",
    "        dw = gradfn(w, sample_X, sample_y)\n",
    "        w = w - eta * dw\n",
    "        if k % print_every == print_every - 1:\n",
    "            t_cost = cost(w, X, y)\n",
    "            print('error after %d iteration: %s' % (k, t_cost))\n",
    "            idx_res.append(k)\n",
    "            err_res.append(t_cost)\n",
    "    return w, idx_res, err_res"
   ]
  },
  {
   "cell_type": "markdown",
   "metadata": {},
   "source": [
    "Now we apply minibatch gradient descent to solve the Boston House Price prediction problem."
   ]
  },
  {
   "cell_type": "code",
   "execution_count": 40,
   "metadata": {},
   "outputs": [
    {
     "name": "stdout",
     "output_type": "stream",
     "text": [
      "error after 99 iteration: 33.21322447752758\n",
      "error after 199 iteration: 32.46137997797351\n",
      "error after 299 iteration: 32.25176480545828\n",
      "error after 399 iteration: 31.964499159943948\n",
      "error after 499 iteration: 31.9367166916139\n",
      "error after 599 iteration: 31.620486100446865\n",
      "error after 699 iteration: 31.431448915937246\n",
      "error after 799 iteration: 31.30291002478187\n",
      "error after 899 iteration: 31.164363455124064\n",
      "error after 999 iteration: 30.9955415541522\n",
      "error after 1099 iteration: 31.521304289118323\n",
      "error after 1199 iteration: 30.750092246568524\n",
      "error after 1299 iteration: 30.8894584915778\n",
      "error after 1399 iteration: 30.553069370782662\n",
      "error after 1499 iteration: 30.980906128424042\n",
      "error after 1599 iteration: 30.437407807670652\n",
      "error after 1699 iteration: 30.33739126255046\n",
      "error after 1799 iteration: 30.213854250214563\n",
      "error after 1899 iteration: 30.147649332939118\n",
      "error after 1999 iteration: 30.096325900224482\n",
      "error after 2099 iteration: 30.059729362010593\n",
      "error after 2199 iteration: 30.022340673327296\n",
      "error after 2299 iteration: 29.879733409797566\n",
      "error after 2399 iteration: 29.882537562401282\n",
      "error after 2499 iteration: 29.957949388776967\n",
      "error after 2599 iteration: 29.705427385215653\n",
      "error after 2699 iteration: 29.65038529060052\n",
      "error after 2799 iteration: 29.682677893889167\n",
      "error after 2899 iteration: 29.535778299421263\n",
      "error after 2999 iteration: 29.494542360778365\n",
      "error after 3099 iteration: 29.44535586694878\n",
      "error after 3199 iteration: 29.42387573460535\n",
      "error after 3299 iteration: 29.349265800150473\n",
      "error after 3399 iteration: 29.35962901090502\n",
      "error after 3499 iteration: 29.284892825071204\n",
      "error after 3599 iteration: 29.19648739112553\n",
      "error after 3699 iteration: 29.145842844686616\n",
      "error after 3799 iteration: 29.107940713422693\n",
      "error after 3899 iteration: 29.12935066990593\n",
      "error after 3999 iteration: 29.02091886487201\n",
      "error after 4099 iteration: 28.983990620199656\n",
      "error after 4199 iteration: 29.011145914940872\n",
      "error after 4299 iteration: 28.941649182974313\n",
      "error after 4399 iteration: 28.842224960716745\n",
      "error after 4499 iteration: 28.98162027440894\n",
      "error after 4599 iteration: 28.762339353202066\n",
      "error after 4699 iteration: 28.718487667439877\n",
      "error after 4799 iteration: 28.670634151314033\n",
      "error after 4899 iteration: 28.64373917264108\n",
      "error after 4999 iteration: 28.65847030661179\n"
     ]
    }
   ],
   "source": [
    "w_batch, idx_batch, err_batch = solve_via_minibatch( X=x_in, y=y_target)"
   ]
  },
  {
   "cell_type": "markdown",
   "metadata": {},
   "source": [
    "## Adaptive Gradient Descent\n",
    "\n",
    "Stochastic gradient descent uses the same learning rates for all the features. This can be problematic if there are some sparse and predictive features. The underlying reason is that there are few examples with non-zero values for the sparse features, and it is often the case that SGD will choose an example with a zero for the sparse feature. Then it would not update the corresponding coordinate in this case. This motivates the need to slow down the update of some coordinates if there is already a frequent update on that coordinate, and accelerate the update if there are few updates on that coordinate.\n",
    "\n",
    "The key idea of `Adagrad` is to introduce a vector $\\mathbf{r}$ to store the accumulated gradient norm square. We initialize $\\mathbf{r}^{(0)}=0$ and update\n",
    "$$ \n",
    "\\mathbf{r}^{(t+1)}=\\mathbf{r}^{(t)}+\\hat{\\mathbf{g}}^{(t)}\\odot\\hat{\\mathbf{g}}^{(t)},\n",
    "$$\n",
    "where $\\hat{\\mathbf{g}}^{(t)}$ can be a stochastic gradient built based on a selected example or a minibatch of examples. Note $\\mathbf{r}^{(t+1)}$ records the accumulated magnitude square of gradients in each coordinate up to the $t$-th iteration. In this way, the entries of $\\mathbf{r}^{(t+1)}$ would be different. If ${r}_j^{(t+1)}$ is large, then this means that there are a lot of updates on the $j$-th coordinate. If ${r}_j^{(t+1)}$ is small, then this means that there are few updates on the $j$-th coordinate. The idea is to slow down the update on an coordinate if there are already many updates on that coordinate in the history, and speed up the update on an coordinate if there are few updates in the history. This can be achieved by dividing the parameter $\\eta$ with $\\sqrt{\\mathbf{r}^{(t+1)}}$. That is\n",
    "$$\n",
    "\\mathbf{w}^{(t+1)}\\gets\\mathbf{w}^{(t)}-\\frac{\\eta}{\\delta+\\sqrt{\\mathbf{r}^{(t+1)}}}\\odot \\hat{\\mathbf{g}}^{(t)} \n",
    "$$\n",
    "In this way, we can have different learning rates on different coordinates. In the following, we request you to finish the following implementation of the `AdaGrad` on the linear regression problem. "
   ]
  },
  {
   "cell_type": "code",
   "execution_count": 41,
   "metadata": {},
   "outputs": [],
   "source": [
    "def solve_via_adagrad(X, y, print_every=100,\n",
    "                               niter=5000, eta=1, batch_size=50):\n",
    "    '''\n",
    "    Solves for linear regression weights with nesterov momentum.\n",
    "    Given `X` - matrix of shape (N,D) of input features\n",
    "          `y` - target y values\n",
    "          `print_every` - we report performance every 'print_every' iterations\n",
    "          `niter` - the number of iterates allowed\n",
    "          `eta` - learning rate\n",
    "          `batch_size` - the size of minibatch\n",
    "    Return \n",
    "        `w` - weights after `niter` iterations\n",
    "        `idx_res` - the indices of iterations where we compute the cost\n",
    "        `err_res` - the cost at iterations\n",
    "    '''\n",
    "    N, D = np.shape(X)\n",
    "    # initialize all the weights to zeros\n",
    "    w = np.zeros([D])\n",
    "    idx_res = []\n",
    "    err_res = []\n",
    "    tset = list(range(N))\n",
    "    gradients_sum = np.zeros([D])\n",
    "    delta = 1e-8\n",
    "    for k in range(niter):\n",
    "        # TODO: Insert your code to update w by Adagrad\n",
    "        idx = random.sample(tset, batch_size)\n",
    "        #sample batch of data\n",
    "        sample_X = X[idx, :]\n",
    "        sample_y = y[idx]\n",
    "        dw = gradfn(w, sample_X, sample_y)\n",
    "        \n",
    "        #compute square of sum of gradients\n",
    "        gradients_sum += dw ** 2\n",
    "        w = w - eta * dw / (np.sqrt(gradients_sum) + delta)\n",
    "        # print(w)\n",
    "        if k % print_every == print_every - 1:\n",
    "            t_cost = cost(w, X, y)\n",
    "            print('error after %d iteration: %s' % (k, t_cost))\n",
    "            idx_res.append(k)\n",
    "            err_res.append(t_cost)\n",
    "    return w, idx_res, err_res"
   ]
  },
  {
   "cell_type": "markdown",
   "metadata": {},
   "source": [
    "Now we apply adaptive gradient descent to solve the Boston House Price prediction problem."
   ]
  },
  {
   "cell_type": "code",
   "execution_count": 42,
   "metadata": {},
   "outputs": [
    {
     "name": "stdout",
     "output_type": "stream",
     "text": [
      "error after 99 iteration: 42.91864667684241\n",
      "error after 199 iteration: 37.25689224322519\n",
      "error after 299 iteration: 35.43345199503647\n",
      "error after 399 iteration: 34.164889016968274\n",
      "error after 499 iteration: 33.19659140623493\n",
      "error after 599 iteration: 32.36531901645968\n",
      "error after 699 iteration: 31.769589751773065\n",
      "error after 799 iteration: 31.239436228876958\n",
      "error after 899 iteration: 30.857614998284557\n",
      "error after 999 iteration: 30.512162776843102\n",
      "error after 1099 iteration: 30.22108638229531\n",
      "error after 1199 iteration: 29.96687020392567\n",
      "error after 1299 iteration: 29.731224196346517\n",
      "error after 1399 iteration: 29.55584586173168\n",
      "error after 1499 iteration: 29.397591656963613\n",
      "error after 1599 iteration: 29.26009146810003\n",
      "error after 1699 iteration: 29.146281389025827\n",
      "error after 1799 iteration: 29.012855141660488\n",
      "error after 1899 iteration: 28.888036187535462\n",
      "error after 1999 iteration: 28.77534371086893\n",
      "error after 2099 iteration: 28.69022476743478\n",
      "error after 2199 iteration: 28.59699860951785\n",
      "error after 2299 iteration: 28.515993707225913\n",
      "error after 2399 iteration: 28.43652760090195\n",
      "error after 2499 iteration: 28.35657038050403\n",
      "error after 2599 iteration: 28.282441336270654\n",
      "error after 2699 iteration: 28.20925647271391\n",
      "error after 2799 iteration: 28.147643840513346\n",
      "error after 2899 iteration: 28.069072985617748\n",
      "error after 2999 iteration: 28.00312857809916\n",
      "error after 3099 iteration: 27.93419014831137\n",
      "error after 3199 iteration: 27.874798497090307\n",
      "error after 3299 iteration: 27.809899930206903\n",
      "error after 3399 iteration: 27.754346343806116\n",
      "error after 3499 iteration: 27.695659690080486\n",
      "error after 3599 iteration: 27.63673188981108\n",
      "error after 3699 iteration: 27.578816646406413\n",
      "error after 3799 iteration: 27.520613084259647\n",
      "error after 3899 iteration: 27.466575204382067\n",
      "error after 3999 iteration: 27.415222515273367\n",
      "error after 4099 iteration: 27.354881790091333\n",
      "error after 4199 iteration: 27.305616441993976\n",
      "error after 4299 iteration: 27.253326635652197\n",
      "error after 4399 iteration: 27.201651985779478\n",
      "error after 4499 iteration: 27.14972017188555\n",
      "error after 4599 iteration: 27.100615047059936\n",
      "error after 4699 iteration: 27.052356632994076\n",
      "error after 4799 iteration: 27.003338064946664\n",
      "error after 4899 iteration: 26.954277006903755\n",
      "error after 4999 iteration: 26.906933302133687\n"
     ]
    }
   ],
   "source": [
    "w_adagrad, idx_adagrad, err_adagrad = solve_via_adagrad( X=x_in, y=y_target)"
   ]
  },
  {
   "cell_type": "markdown",
   "metadata": {},
   "source": [
    "## Adam\n",
    "\n",
    "For the `gradient descent with momentum`, we introduce a `velocity` to store the information of historical gradients to accerlate the optimization speed. For the `AdaGrad`/ `RMSProp`, we introduce an `accumulated gradient norm square` to store the information of historical updates on all coordinates, which allows us to have different learning rates at different features. \n",
    "The basic idea of Adam is to combine the idea of `gradient descent with momentum` and `AdaGrad`/ `RMSProp` together. It introduces both a `velocity` and an `accumulated gradient norm square`, both of which are initialized with the zero vector. Let $\\hat{\\mathbf{g}}^{(t)}$ be a stochastic gradient built based on either a selected example or a minibatch of examples. It first updates the velocity $\\mathbf{s}$ by\n",
    "$$\n",
    "\\mathbf{s}^{(t+1)}=\\beta_1\\mathbf{s}^{(t)}+(1-\\beta_1)\\hat{\\mathbf{g}}^{(t)}.\n",
    "$$\n",
    "Then it updates the `accumulated gradient norm square` by\n",
    "$$\n",
    "\\mathbf{r}^{(t+1)}=\\beta_2\\mathbf{r}^{(t)}+(1-\\beta_2)\\hat{\\mathbf{g}}^{(t)}\\odot\\hat{\\mathbf{g}}^{(t)}.\n",
    "$$\n",
    "After that we need to apply a bias correct to remove the bias in the above update\n",
    "$$\n",
    "\\hat{\\mathbf{s}}^{(t+1)}=\\mathbf{s}^{(t+1)}/(1-\\beta_1^{t+1}),\\quad\n",
    "\\hat{\\mathbf{r}}^{(t+1)}=\\mathbf{r}^{(t+1)}/(1-\\beta_2^{t+1}).\n",
    "$$\n",
    "We can now update the model by\n",
    "$$\n",
    "\\mathbf{w}^{(t+1)}\\gets\\mathbf{w}^{(t)}-\\frac{\\eta}{\\delta+\\sqrt{\\hat{\\mathbf{r}}^{(t+1)}}}\\odot \\hat{\\mathbf{s}}^{(t+1)}.\n",
    "$$\n",
    "As you can see, there are four parameters in Adam: $\\eta, \\delta, \\beta_1, \\beta_2$. Some recommended choices are\n",
    "$$\n",
    "\\eta=0.001,\\quad \\beta_1=0.9,\\quad\\beta_2=0.999,\\quad \\delta=10^{-8}.\n",
    "$$\n",
    "In the following, we request you to finish the following implementation of the `Adam` on the linear regression problem."
   ]
  },
  {
   "cell_type": "code",
   "execution_count": 43,
   "metadata": {},
   "outputs": [],
   "source": [
    "def solve_via_adam(X, y, print_every=100,\n",
    "                               niter=5000, eta=0.1, beta1 = 0.9, beta2 = 0.999, batch_size=50):\n",
    "    '''\n",
    "    Solves for linear regression weights with nesterov momentum.\n",
    "    Given `X` - matrix of shape (N,D) of input features\n",
    "          `y` - target y values\n",
    "          `print_every` - we report performance every 'print_every' iterations\n",
    "          `niter` - the number of iterates allowed\n",
    "          `eta` - learning rate\n",
    "          `beta1` - the parameter on updating velocity\n",
    "          `beta2` - the parameter on updating the accumulated gradient norm square\n",
    "          `batch_size` - the size of minibatch\n",
    "    Return \n",
    "        `w` - weights after `niter` iterations\n",
    "        `idx_res` - the indices of iterations where we compute the cost\n",
    "        `err_res` - the cost at iterations\n",
    "    '''\n",
    "    N, D = np.shape(X)\n",
    "    # initialize all the weights to zeros\n",
    "    w = np.zeros([D])\n",
    "    v = np.zeros([D])    \n",
    "    idx_res = []\n",
    "    err_res = []\n",
    "    tset = list(range(N))\n",
    "    gsquare = np.zeros([D])\n",
    "    delta = 1e-8\n",
    "    for k in range(niter):\n",
    "        # TODO: Insert your code to update w by Adam\n",
    "        idx = random.sample(tset, batch_size)\n",
    "        #sample batch of data\n",
    "        sample_X = X[idx, :]\n",
    "        sample_y = y[idx]\n",
    "        dw = gradfn(w, sample_X, sample_y)\n",
    "        v = beta1 * v + (1 - beta1) * dw\n",
    "        #compute square of sum of gradients\n",
    "        gsquare= beta2 * gsquare + (1 - beta2) * (dw ** 2)\n",
    "        v_hat = v / (1 - beta1 ** (k + 1))\n",
    "        gsquare_hat = gsquare / (1 - beta2 ** (k + 1))\n",
    "        w = w - eta * v_hat / (np.sqrt(gsquare_hat) + delta)\n",
    "        if k % print_every == print_every - 1:\n",
    "            t_cost = cost(w, X, y)\n",
    "            print('error after %d iteration: %s' % (k, t_cost))\n",
    "            idx_res.append(k)\n",
    "            err_res.append(t_cost)\n",
    "    return w, idx_res, err_res"
   ]
  },
  {
   "cell_type": "markdown",
   "metadata": {},
   "source": [
    "Now we apply Adam to solve the Boston House Price prediction problem."
   ]
  },
  {
   "cell_type": "code",
   "execution_count": 44,
   "metadata": {},
   "outputs": [
    {
     "name": "stdout",
     "output_type": "stream",
     "text": [
      "error after 99 iteration: 81.49311071647244\n",
      "error after 199 iteration: 41.99064831037212\n",
      "error after 299 iteration: 37.21559980117592\n",
      "error after 399 iteration: 35.190212807782785\n",
      "error after 499 iteration: 33.59857499366354\n",
      "error after 599 iteration: 32.28828341358555\n",
      "error after 699 iteration: 31.155894280255765\n",
      "error after 799 iteration: 30.384106374155056\n",
      "error after 899 iteration: 29.818437971700124\n",
      "error after 999 iteration: 29.30814940674383\n",
      "error after 1099 iteration: 28.95171077133858\n",
      "error after 1199 iteration: 28.630163012001397\n",
      "error after 1299 iteration: 28.3175473709342\n",
      "error after 1399 iteration: 28.04849566822906\n",
      "error after 1499 iteration: 27.782586958032322\n",
      "error after 1599 iteration: 27.532951172326214\n",
      "error after 1699 iteration: 27.21787245038714\n",
      "error after 1799 iteration: 26.95463837092314\n",
      "error after 1899 iteration: 26.684743066762447\n",
      "error after 1999 iteration: 26.532932525042558\n",
      "error after 2099 iteration: 26.164188827367088\n",
      "error after 2199 iteration: 25.880511702266052\n",
      "error after 2299 iteration: 25.630460819278316\n",
      "error after 2399 iteration: 25.38948675040744\n",
      "error after 2499 iteration: 25.116194320802517\n",
      "error after 2599 iteration: 24.862097663670465\n",
      "error after 2699 iteration: 24.612084397134858\n",
      "error after 2799 iteration: 24.406873435800737\n",
      "error after 2899 iteration: 24.133795517197626\n",
      "error after 2999 iteration: 23.859468161460804\n",
      "error after 3099 iteration: 23.620087604353266\n",
      "error after 3199 iteration: 23.378685410556002\n",
      "error after 3299 iteration: 23.16178937859769\n",
      "error after 3399 iteration: 22.93498114567052\n",
      "error after 3499 iteration: 22.726938824914754\n",
      "error after 3599 iteration: 22.50418939860244\n",
      "error after 3699 iteration: 22.301348158187228\n",
      "error after 3799 iteration: 22.110175468318896\n",
      "error after 3899 iteration: 21.88458616982042\n",
      "error after 3999 iteration: 21.709726781472416\n",
      "error after 4099 iteration: 21.563202655847583\n",
      "error after 4199 iteration: 21.356479875964553\n",
      "error after 4299 iteration: 21.15456843525461\n",
      "error after 4399 iteration: 20.981380528053805\n",
      "error after 4499 iteration: 20.83626385500961\n",
      "error after 4599 iteration: 20.681370585267437\n",
      "error after 4699 iteration: 20.518242713434987\n",
      "error after 4799 iteration: 20.34193991789845\n",
      "error after 4899 iteration: 20.25452807134089\n",
      "error after 4999 iteration: 20.065975367076835\n"
     ]
    }
   ],
   "source": [
    "w_adam, idx_adam, err_adam = solve_via_adam( X=x_in, y=y_target)"
   ]
  },
  {
   "cell_type": "markdown",
   "metadata": {},
   "source": [
    "### Comparison between Minibatch Gradient Descent, Adaptive Gradient Descent and Adam\n",
    "\n",
    "We can now compare the behavie of Minibatch Gradient Descent, Adaptive Gradient Descent and Adam. In particular, we will show how the `cost` of models found by the algorithm at different iterations would behave with respect to the iteration number."
   ]
  },
  {
   "cell_type": "code",
   "execution_count": 45,
   "metadata": {},
   "outputs": [
    {
     "data": {
      "image/png": "[encoded data removed]",
      "text/plain": [
       "<Figure size 432x288 with 1 Axes>"
      ]
     },
     "metadata": {
      "needs_background": "light"
     },
     "output_type": "display_data"
    }
   ],
   "source": [
    "plt.plot(idx_batch, err_batch, color=\"red\", linewidth=2.5, linestyle=\"-\", label=\"minibatch\")\n",
    "plt.plot(idx_adagrad, err_adagrad, color=\"blue\", linewidth=2.5, linestyle=\"-\", label=\"adagrad\")\n",
    "plt.plot(idx_adam, err_adam, color=\"green\", linewidth=2.5, linestyle=\"-\", label=\"adam\")\n",
    "plt.legend(loc='upper right', prop={'size': 12})\n",
    "plt.title('comparison between minibatch gradient descent and adaptive gradient descent')\n",
    "plt.xlabel(\"number of iterations\")\n",
    "plt.ylabel(\"cost\")\n",
    "plt.grid()\n",
    "plt.show()      "
   ]
  },
  {
   "cell_type": "markdown",
   "metadata": {},
   "source": [
    "As we see, Adam achieves the best performance."
   ]
  },
  {
   "cell_type": "code",
   "execution_count": null,
   "metadata": {},
   "outputs": [],
   "source": []
  }
 ],
 "metadata": {
  "kernelspec": {
   "display_name": "Python 3",
   "language": "python",
   "name": "python3"
  },
  "language_info": {
   "codemirror_mode": {
    "name": "ipython",
    "version": 3
   },
   "file_extension": ".py",
   "mimetype": "text/x-python",
   "name": "python",
   "nbconvert_exporter": "python",
   "pygments_lexer": "ipython3",
   "version": "3.8.5"
  }
 },
 "nbformat": 4,
 "nbformat_minor": 4
}
